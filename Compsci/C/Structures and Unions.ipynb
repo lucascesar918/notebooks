{
 "cells": [
  {
   "cell_type": "markdown",
   "id": "55325150-c98c-428b-8f60-db79cb395cc5",
   "metadata": {},
   "source": [
    "# Structures\n",
    "\n",
    "Structures are collections of one or more variables, possibly of different types, grouped together under a same name. Structures help organize complex data, usually when they are related. This way variables can be treated as a unit instead of separate entities. One useful feature is that structures can be returned from functions or used as parameter. Then let's create a struct representing a point in a cartesian plane:"
   ]
  },
  {
   "cell_type": "code",
   "execution_count": null,
   "id": "7bfc8f0b-868e-4f8c-acca-7aa9b5721f71",
   "metadata": {},
   "outputs": [],
   "source": [
    "struct point {\n",
    "    int x;\n",
    "    int y;\n",
    "}"
   ]
  }
 ],
 "metadata": {
  "kernelspec": {
   "display_name": "Python 3 (ipykernel)",
   "language": "python",
   "name": "python3"
  },
  "language_info": {
   "codemirror_mode": {
    "name": "ipython",
    "version": 3
   },
   "file_extension": ".py",
   "mimetype": "text/x-python",
   "name": "python",
   "nbconvert_exporter": "python",
   "pygments_lexer": "ipython3",
   "version": "3.12.1"
  }
 },
 "nbformat": 4,
 "nbformat_minor": 5
}
