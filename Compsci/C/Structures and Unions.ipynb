{
 "cells": [
  {
   "cell_type": "markdown",
   "id": "55325150-c98c-428b-8f60-db79cb395cc5",
   "metadata": {},
   "source": [
    "# Structures\n",
    "\n",
    "## Concept and Declaration\n",
    "Structures are collections of one or more variables, possibly of different types, grouped together under a same name. Structures help organize complex data, usually when they are related. This way variables can be treated as a unit instead of separate entities. One useful feature is that structures can be returned from functions or used as parameter. Then let's create and declare a struct representing a point in a cartesian plane:"
   ]
  },
  {
   "cell_type": "code",
   "execution_count": 9,
   "id": "7bfc8f0b-868e-4f8c-acca-7aa9b5721f71",
   "metadata": {},
   "outputs": [],
   "source": [
    "#include <stdio.h>\n",
    "\n",
    "int main() {\n",
    "    struct point {\n",
    "        int x;\n",
    "        int y;\n",
    "    };\n",
    "\n",
    "    struct point pt;\n",
    "\n",
    "    return 0;\n",
    "}"
   ]
  },
  {
   "cell_type": "markdown",
   "id": "e7a77ec9-6030-4a9a-b379-bed944117294",
   "metadata": {},
   "source": [
    "## Value Assignment\n",
    "The members of a structure can be assigned a value. Each member from a structure can be acessed using \".\" to access it directly or \"->\" to access the value it points to."
   ]
  },
  {
   "cell_type": "code",
   "execution_count": 25,
   "id": "c95cda7a-c281-463b-a3f2-398b38902644",
   "metadata": {},
   "outputs": [
    {
     "name": "stdout",
     "output_type": "stream",
     "text": [
      "Start:\t10, 20\n",
      "End:\t30, 40\n"
     ]
    }
   ],
   "source": [
    "#include <stdio.h>\n",
    "\n",
    "struct point {\n",
    "    int x;\n",
    "    int y;\n",
    "};\n",
    "\n",
    "struct rectangle {\n",
    "    struct point corner_a;\n",
    "    struct point corner_b;\n",
    "};\n",
    "\n",
    "int main() {\n",
    "    struct rectangle rect = {\n",
    "        {10, 20},\n",
    "        {30, 40},\n",
    "    };\n",
    "    \n",
    "    printf(\"Start:\\t%d, %d\\nEnd:\\t%d, %d\\n\",\n",
    "        rect.corner_a.x,\n",
    "        rect.corner_a.y,\n",
    "        rect.corner_b.x,\n",
    "        rect.corner_b.y\n",
    "    );\n",
    "\n",
    "    return 0;\n",
    "}"
   ]
  },
  {
   "cell_type": "markdown",
   "id": "48c448fb-8af1-435c-8ed2-71aa9be476d7",
   "metadata": {},
   "source": [
    "## Use in functions\n",
    "The only possible operations with a structure are copy as a unit, assign to it as a unit, taking its address and acessing its members. Copying includes using it as parameter or return value."
   ]
  },
  {
   "cell_type": "code",
   "execution_count": 35,
   "id": "f6851a9f-e174-479b-acca-f872f6bbc6cb",
   "metadata": {},
   "outputs": [
    {
     "name": "stdout",
     "output_type": "stream",
     "text": [
      "x: 50\n",
      "y: 25\n"
     ]
    }
   ],
   "source": [
    "#include <stdio.h>\n",
    "\n",
    "struct point {\n",
    "    int x;\n",
    "    int y;\n",
    "};\n",
    "\n",
    "struct point make_point(int x, int y);\n",
    "\n",
    "int main() {\n",
    "    struct point mypoint = make_point(50,25);\n",
    "\n",
    "    printf(\"x: %d\\ny: %d\\n\", mypoint.x, mypoint.y);\n",
    "    \n",
    "    return 0;\n",
    "}\n",
    "\n",
    "struct point make_point(int x, int y) {\n",
    "    struct point tmp_point;\n",
    "    tmp_point.x = x;\n",
    "    tmp_point.y = y;\n",
    "    \n",
    "    return tmp_point;\n",
    "}"
   ]
  },
  {
   "cell_type": "markdown",
   "id": "ebf6961d-83b7-4d66-8bbb-35e17b0f4e25",
   "metadata": {},
   "source": [
    "When dealing with a large structure, it is better and more efficient referencing it than passing a copy."
   ]
  },
  {
   "cell_type": "code",
   "execution_count": 46,
   "id": "a2111a56-ccf7-4c7e-a273-a2d5c80583b8",
   "metadata": {},
   "outputs": [
    {
     "name": "stdout",
     "output_type": "stream",
     "text": [
      "Name:\t\tGary\n",
      "Age:\t\t42\n",
      "Born in\t\t11, August, 1998\n",
      "Balance:\t24034.52\n",
      "Salary:\t\t3000.00\n"
     ]
    }
   ],
   "source": [
    "#include <stdio.h>\n",
    "\n",
    "struct Person {\n",
    "    char* name;\n",
    "    int age;\n",
    "    char* birthday;\n",
    "    double balance;\n",
    "    double salary;\n",
    "};\n",
    "\n",
    "void print_person(struct Person* person);\n",
    "\n",
    "int main() {\n",
    "    struct Person gary = {\"Gary\", 42, \"11, August, 1998\", 24034.52, 3000.0};\n",
    "\n",
    "    print_person(&gary);\n",
    "    \n",
    "    return 0;\n",
    "}\n",
    "\n",
    "void print_person(struct Person* person) {\n",
    "    printf(\"Name:\\t\\t%s\\nAge:\\t\\t%d\\nBorn in\\t\\t%s\\nBalance:\\t%.2f\\nSalary:\\t\\t%.2f\\n\",\n",
    "        person->name,\n",
    "        person->age,\n",
    "        person->birthday,\n",
    "        person->balance,\n",
    "        person->salary\n",
    "    );\n",
    "}"
   ]
  },
  {
   "cell_type": "markdown",
   "id": "4d5a5310-30af-409d-8982-d16f1daea194",
   "metadata": {},
   "source": [
    "## Arrays of structures\n",
    "\n",
    "Consider an occasion of having to count the ocurrence of each C keyword. We can use a string array to hold the names and an array of integers for the counts. The way this can be implemented is making two parallel arrays."
   ]
  },
  {
   "cell_type": "code",
   "execution_count": null,
   "id": "1d96b4fd-0b04-4163-9b99-bc4f2bef8a2e",
   "metadata": {},
   "outputs": [],
   "source": [
    "#include <stdio.h>\n",
    "#define NKEYS 5;\n",
    "\n",
    "int main() {\n",
    "    char *keyword[NKEYS];\n",
    "    int keycount[NKEYS];\n",
    "    \n",
    "    return 0;\n",
    "}"
   ]
  },
  {
   "cell_type": "markdown",
   "id": "a75917ce-e134-4f8d-a439-55d8628b0665",
   "metadata": {},
   "source": [
    "However, as the data is related, it can be organized in a better way using structs."
   ]
  },
  {
   "cell_type": "code",
   "execution_count": 52,
   "id": "21df507a-593d-4355-9698-918bb7888aa6",
   "metadata": {},
   "outputs": [
    {
     "name": "stdout",
     "output_type": "stream",
     "text": [
      "Considering 10 keywords\n"
     ]
    }
   ],
   "source": [
    "#include <stdio.h>\n",
    "\n",
    "struct key {\n",
    "    char *word;\n",
    "    int count;\n",
    "};\n",
    "\n",
    "int main() {\n",
    "    struct key keytab[] = {\n",
    "        {\"auto\", 0},\n",
    "        {\"break\", 0},\n",
    "        {\"case\", 0},\n",
    "        {\"char\", 0},\n",
    "        {\"const\", 0},\n",
    "        {\"continue\", 0},\n",
    "        /* ... */\n",
    "        {\"unsigned\", 0},\n",
    "        {\"void\", 0},\n",
    "        {\"while\", 0},\n",
    "        {\"for\", 0}\n",
    "    };\n",
    "\n",
    "    /* Notice the way a structure entity array length can be calculated */\n",
    "    printf(\"Considering %lu keywords\\n\", sizeof(keytab) / sizeof(struct key));\n",
    "    \n",
    "    return 0;\n",
    "}"
   ]
  },
  {
   "cell_type": "markdown",
   "id": "c25b4a19-0fab-4382-a241-a50a6ec7f393",
   "metadata": {},
   "source": [
    "## Self-referential Structures\n",
    "To-do\n",
    "\n",
    "## Table Lookup\n",
    "To-do\n",
    "\n",
    "## Typedefs\n",
    "C provides a facility called ```typedef```, which creates new data type names. For example, the declaration ```typedef int Length;``` makes the name ```Length``` a synonym for int and can be used in exatly the same ways the ```int``` type can be used.\n",
    "\n",
    "Another usability for ```typedef``` is not having to write ```struct point pt;```, but rather```point pt;``` directly."
   ]
  },
  {
   "cell_type": "code",
   "execution_count": 2,
   "id": "95d0f7cf-b7bb-4eeb-8be0-b9d3198e01fb",
   "metadata": {},
   "outputs": [
    {
     "name": "stdout",
     "output_type": "stream",
     "text": [
      "(2, 5)\n"
     ]
    }
   ],
   "source": [
    "#include <stdio.h>\n",
    "\n",
    "typedef struct s_point {\n",
    "    int x;\n",
    "    int y;\n",
    "} Point;\n",
    "\n",
    "int main() {\n",
    "    Point mypoint = {2, 5};\n",
    "\n",
    "    printf(\"(%d, %d)\\n\", mypoint.x, mypoint.y);\n",
    "    \n",
    "    return 0;\n",
    "}"
   ]
  },
  {
   "cell_type": "markdown",
   "id": "b1d3574d",
   "metadata": {},
   "source": [
    "# Unions\n",
    "\n",
    "An union is not the one defined by Marx, but a variable that may hold, at different times, objects of different types and/or sizes, while the compiler keeps track of size and alignment requirements. It is an convenient way to manipulate different kinds of data in a single area of storage, without embedding any machine-dependent information in the program."
   ]
  },
  {
   "cell_type": "code",
   "execution_count": null,
   "id": "bbd55699",
   "metadata": {},
   "outputs": [
    {
     "name": "stderr",
     "output_type": "stream",
     "text": [
      "/tmp/tmppskbysdj.c: In function ‘main’:\n",
      "/tmp/tmppskbysdj.c:11:9: error: incompatible types when assigning to type ‘union u_tag’ from type ‘int’\n",
      "   11 |     u = 4;\n",
      "      |         ^\n",
      "[C kernel] GCC exited with code 1, the executable will not be executed"
     ]
    }
   ],
   "source": [
    "#include <stdio.h>\n",
    "\n",
    "int main() {\n",
    "    /* The variable u will be large enough to hold the largest of the types, in this case the float one */\n",
    "    union u_tag {\n",
    "        int ival;\n",
    "        float fval;\n",
    "        char *sval;\n",
    "    } u;\n",
    "\n",
    "    \n",
    "\n",
    "    printf(\"Size of union: %lu\\n\", sizeof(u));\n",
    "}"
   ]
  }
 ],
 "metadata": {
  "kernelspec": {
   "display_name": "C",
   "language": "c",
   "name": "c"
  },
  "language_info": {
   "file_extension": ".c",
   "mimetype": "text/plain",
   "name": "c"
  }
 },
 "nbformat": 4,
 "nbformat_minor": 5
}
